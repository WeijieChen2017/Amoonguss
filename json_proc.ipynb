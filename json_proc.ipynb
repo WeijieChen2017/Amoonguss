{
 "cells": [
  {
   "cell_type": "code",
   "execution_count": 4,
   "metadata": {},
   "outputs": [],
   "source": [
    "import numpy as np\n",
    "import glob\n",
    "import json\n",
    "import os"
   ]
  },
  {
   "cell_type": "code",
   "execution_count": null,
   "metadata": {},
   "outputs": [],
   "source": [
    "json_list = sorted(glob.glob(f\"*.json\"))\n",
    "print(json_list)\n",
    "for json_path in json_list:\n",
    "    new_name = json_path.replace(\".json\", \"_proc.json\")\n",
    "    cmd = f\"mv {json_path} {new_name}\"\n",
    "    print(cmd)\n",
    "    os.system(cmd)"
   ]
  },
  {
   "cell_type": "code",
   "execution_count": 12,
   "metadata": {},
   "outputs": [
    {
     "name": "stdout",
     "output_type": "stream",
     "text": [
      "wrote new_fold_1.json\n",
      "wrote new_fold_2.json\n",
      "wrote new_fold_3.json\n",
      "wrote new_fold_4.json\n",
      "wrote new_fold_5.json\n",
      "wrote new_fold_6.json\n"
     ]
    },
    {
     "ename": "IndexError",
     "evalue": "list index out of range",
     "output_type": "error",
     "traceback": [
      "\u001b[0;31m---------------------------------------------------------------------------\u001b[0m",
      "\u001b[0;31mIndexError\u001b[0m                                Traceback (most recent call last)",
      "Cell \u001b[0;32mIn[12], line 21\u001b[0m\n\u001b[1;32m     16\u001b[0m key_list \u001b[39m=\u001b[39m []\n\u001b[1;32m     17\u001b[0m \u001b[39mfor\u001b[39;00m case \u001b[39min\u001b[39;00m data[key]:\n\u001b[1;32m     18\u001b[0m     \u001b[39m# case: {'MR': './data_dir/Task1/brain/1BA001/mr.nii.gz',\u001b[39;00m\n\u001b[1;32m     19\u001b[0m     \u001b[39m#    'CT': './data_dir/Task1/brain/1BA001/ct.nii.gz',\u001b[39;00m\n\u001b[1;32m     20\u001b[0m     \u001b[39m#    'MASK_MR': './data_dir/Task1/brain/1BA001/mask_mri_th60.nii.gz'}\u001b[39;00m\n\u001b[0;32m---> 21\u001b[0m     case_num \u001b[39m=\u001b[39m case[\u001b[39m\"\u001b[39;49m\u001b[39mMR\u001b[39;49m\u001b[39m\"\u001b[39;49m]\u001b[39m.\u001b[39;49msplit(\u001b[39m\"\u001b[39;49m\u001b[39m/\u001b[39;49m\u001b[39m\"\u001b[39;49m)[\u001b[39m4\u001b[39;49m]\n\u001b[1;32m     22\u001b[0m     new_case \u001b[39m=\u001b[39m {\n\u001b[1;32m     23\u001b[0m         \u001b[39m\"\u001b[39m\u001b[39mMR\u001b[39m\u001b[39m\"\u001b[39m : \u001b[39mf\u001b[39m\u001b[39m\"\u001b[39m\u001b[39m./data_dir/t1_mr/brain_\u001b[39m\u001b[39m{\u001b[39;00mcase_num\u001b[39m}\u001b[39;00m\u001b[39m.nii.gz\u001b[39m\u001b[39m\"\u001b[39m,\n\u001b[1;32m     24\u001b[0m         \u001b[39m\"\u001b[39m\u001b[39mCT\u001b[39m\u001b[39m\"\u001b[39m : \u001b[39mf\u001b[39m\u001b[39m\"\u001b[39m\u001b[39m./data_dir/t1_ct/brain_\u001b[39m\u001b[39m{\u001b[39;00mcase_num\u001b[39m}\u001b[39;00m\u001b[39m.nii.gz\u001b[39m\u001b[39m\"\u001b[39m,\n\u001b[1;32m     25\u001b[0m         \u001b[39m\"\u001b[39m\u001b[39mMASK\u001b[39m\u001b[39m\"\u001b[39m : \u001b[39mf\u001b[39m\u001b[39m\"\u001b[39m\u001b[39m./data_dir/t1_mask/brain_\u001b[39m\u001b[39m{\u001b[39;00mcase_num\u001b[39m}\u001b[39;00m\u001b[39m.nii.gz\u001b[39m\u001b[39m\"\u001b[39m,\n\u001b[1;32m     26\u001b[0m         \u001b[39m\"\u001b[39m\u001b[39mMASK_MR\u001b[39m\u001b[39m\"\u001b[39m : \u001b[39mf\u001b[39m\u001b[39m\"\u001b[39m\u001b[39m./data_dir/t1_mask_mr/brain_\u001b[39m\u001b[39m{\u001b[39;00mcase_num\u001b[39m}\u001b[39;00m\u001b[39m.nii.gz\u001b[39m\u001b[39m\"\u001b[39m,\n\u001b[1;32m     27\u001b[0m     }\n\u001b[1;32m     28\u001b[0m     key_list\u001b[39m.\u001b[39mappend(new_case)\n",
      "\u001b[0;31mIndexError\u001b[0m: list index out of range"
     ]
    }
   ],
   "source": [
    "json_list = sorted(glob.glob(f\"*.json\"))\n",
    "for json_path in json_list:\n",
    "    # read json\n",
    "    with open(json_path, \"r\") as f:\n",
    "        data = json.load(f)\n",
    "\n",
    "        # replace all paths \n",
    "        # from\n",
    "        # \"./data_dir/Task1/brain/1BA001/mr.nii.gz\"\n",
    "        # to\n",
    "        # \"./data_dir/t1_mr/brain_1BA001.nii.gz\"\n",
    "\n",
    "        new_data = {}\n",
    "        for key in data.keys():\n",
    "            # key is \"training\" or \"validation\"\n",
    "            key_list = []\n",
    "            for case in data[key]:\n",
    "                # case: {'MR': './data_dir/Task1/brain/1BA001/mr.nii.gz',\n",
    "                #    'CT': './data_dir/Task1/brain/1BA001/ct.nii.gz',\n",
    "                #    'MASK_MR': './data_dir/Task1/brain/1BA001/mask_mri_th60.nii.gz'}\n",
    "                case_num = case[\"MR\"].split(\"/\")[4]\n",
    "                new_case = {\n",
    "                    \"MR\" : f\"./data_dir/t1_mr/brain_{case_num}.nii.gz\",\n",
    "                    \"CT\" : f\"./data_dir/t1_ct/brain_{case_num}.nii.gz\",\n",
    "                    \"MASK\" : f\"./data_dir/t1_mask/brain_{case_num}.nii.gz\",\n",
    "                    \"MASK_MR\" : f\"./data_dir/t1_mask_mr/brain_{case_num}.nii.gz\",\n",
    "                }\n",
    "                key_list.append(new_case)\n",
    "            new_data[key] = key_list\n",
    "        # write json\n",
    "        new_json_path = f\"new_{json_path}\"\n",
    "        with open(new_json_path, \"w\") as f:\n",
    "            json.dump(new_data, f, indent=4)\n",
    "            print(f\"wrote {new_json_path}\")\n"
   ]
  },
  {
   "attachments": {},
   "cell_type": "markdown",
   "metadata": {},
   "source": []
  }
 ],
 "metadata": {
  "kernelspec": {
   "display_name": "mimrtl",
   "language": "python",
   "name": "python3"
  },
  "language_info": {
   "codemirror_mode": {
    "name": "ipython",
    "version": 3
   },
   "file_extension": ".py",
   "mimetype": "text/x-python",
   "name": "python",
   "nbconvert_exporter": "python",
   "pygments_lexer": "ipython3",
   "version": "3.8.11"
  },
  "orig_nbformat": 4
 },
 "nbformat": 4,
 "nbformat_minor": 2
}
