{
 "cells": [
  {
   "cell_type": "code",
   "execution_count": 4,
   "metadata": {},
   "outputs": [],
   "source": [
    "import numpy as np\n",
    "import glob\n",
    "import json"
   ]
  },
  {
   "cell_type": "code",
   "execution_count": 7,
   "metadata": {},
   "outputs": [
    {
     "name": "stdout",
     "output_type": "stream",
     "text": [
      "0 {'MR': './data_dir/Task1/brain/1BA001/mr.nii.gz', 'CT': './data_dir/Task1/brain/1BA001/ct.nii.gz', 'MASK_MR': './data_dir/Task1/brain/1BA001/mask_mri_th60.nii.gz'}\n"
     ]
    },
    {
     "ename": "AttributeError",
     "evalue": "'dict' object has no attribute 'split'",
     "output_type": "error",
     "traceback": [
      "\u001b[0;31m---------------------------------------------------------------------------\u001b[0m",
      "\u001b[0;31mAttributeError\u001b[0m                            Traceback (most recent call last)",
      "Cell \u001b[0;32mIn[7], line 16\u001b[0m\n\u001b[1;32m     14\u001b[0m \u001b[39mfor\u001b[39;00m i, path \u001b[39min\u001b[39;00m \u001b[39menumerate\u001b[39m(data[key]):\n\u001b[1;32m     15\u001b[0m     \u001b[39mprint\u001b[39m(i, path)\n\u001b[0;32m---> 16\u001b[0m     path_parts \u001b[39m=\u001b[39m path\u001b[39m.\u001b[39;49msplit(\u001b[39m\"\u001b[39m\u001b[39m/\u001b[39m\u001b[39m\"\u001b[39m)\n\u001b[1;32m     17\u001b[0m     wildcard1, wildcard2 \u001b[39m=\u001b[39m path_parts[\u001b[39m3\u001b[39m], path_parts[\u001b[39m4\u001b[39m]\n\u001b[1;32m     18\u001b[0m     new_filename \u001b[39m=\u001b[39m \u001b[39mf\u001b[39m\u001b[39m\"\u001b[39m\u001b[39m{\u001b[39;00mwildcard1\u001b[39m}\u001b[39;00m\u001b[39m_\u001b[39m\u001b[39m{\u001b[39;00mwildcard2\u001b[39m}\u001b[39;00m\u001b[39m_\u001b[39m\u001b[39m{\u001b[39;00mkey\u001b[39m}\u001b[39;00m\u001b[39m.nii.gz\u001b[39m\u001b[39m\"\u001b[39m\n",
      "\u001b[0;31mAttributeError\u001b[0m: 'dict' object has no attribute 'split'"
     ]
    }
   ],
   "source": [
    "json_list = sorted(glob.glob(f\"*.json\"))\n",
    "for json_path in json_list:\n",
    "    # read json\n",
    "    with open(json_path, \"r\") as f:\n",
    "        data = json.load(f)\n",
    "\n",
    "        # replace all paths \n",
    "        # from\n",
    "        # \"./data_dir/Task1/brain/1BA001/mr.nii.gz\"\n",
    "        # to\n",
    "        # \"./data_dir/t1_mr/brain_1BA001.nii.gz\"\n",
    "\n",
    "        for key in data.keys():\n",
    "            # key is \"training\" or \"validation\"\n",
    "            for case in enumerate(data[key]):\n",
    "                # case: {'MR': './data_dir/Task1/brain/1BA001/mr.nii.gz',\n",
    "                #    'CT': './data_dir/Task1/brain/1BA001/ct.nii.gz',\n",
    "                #    'MASK_MR': './data_dir/Task1/brain/1BA001/mask_mri_th60.nii.gz'}\n",
    "\n",
    "                case_num = case[\"MR\"].split(\"/\")[4]\n",
    "\n",
    "\n",
    "                path_parts = path.split(\"/\")\n",
    "                wildcard1, wildcard2 = path_parts[3], path_parts[4]\n",
    "                new_filename = f\"{wildcard1}_{wildcard2}_{key}.nii.gz\"\n",
    "                new_filepath = f\"./data_dir/t1_{key}/{new_filename}\"\n",
    "                data[key][i] = new_filepath\n",
    "\n",
    "        # write json\n",
    "        new_json_path = f\"new_{json_path}\"\n",
    "        with open(new_json_path, \"w\") as f:\n",
    "            json.dump(data, f, indent=4)\n",
    "            print(f\"wrote {new_json_path}\")\n"
   ]
  },
  {
   "attachments": {},
   "cell_type": "markdown",
   "metadata": {},
   "source": []
  }
 ],
 "metadata": {
  "kernelspec": {
   "display_name": "mimrtl",
   "language": "python",
   "name": "python3"
  },
  "language_info": {
   "codemirror_mode": {
    "name": "ipython",
    "version": 3
   },
   "file_extension": ".py",
   "mimetype": "text/x-python",
   "name": "python",
   "nbconvert_exporter": "python",
   "pygments_lexer": "ipython3",
   "version": "3.8.11"
  },
  "orig_nbformat": 4
 },
 "nbformat": 4,
 "nbformat_minor": 2
}
