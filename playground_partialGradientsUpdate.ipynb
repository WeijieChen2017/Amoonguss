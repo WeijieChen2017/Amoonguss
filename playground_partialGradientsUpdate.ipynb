{
 "cells": [
  {
   "cell_type": "code",
   "execution_count": 1,
   "metadata": {},
   "outputs": [],
   "source": [
    "import torch\n",
    "import torch.nn as nn\n",
    "# from monai.networks.nets.unet import UNet as unet\n",
    "from model import UNet_GROWTH"
   ]
  },
  {
   "cell_type": "code",
   "execution_count": 2,
   "metadata": {},
   "outputs": [
    {
     "ename": "TypeError",
     "evalue": "__init__() got an unexpected keyword argument 'groups'",
     "output_type": "error",
     "traceback": [
      "\u001b[0;31m---------------------------------------------------------------------------\u001b[0m",
      "\u001b[0;31mTypeError\u001b[0m                                 Traceback (most recent call last)",
      "Cell \u001b[0;32mIn[2], line 1\u001b[0m\n\u001b[0;32m----> 1\u001b[0m model \u001b[39m=\u001b[39m UNet_GROWTH(\n\u001b[1;32m      2\u001b[0m     spatial_dims\u001b[39m=\u001b[39;49m\u001b[39m3\u001b[39;49m,\n\u001b[1;32m      3\u001b[0m     in_channels\u001b[39m=\u001b[39;49m\u001b[39m1\u001b[39;49m,\n\u001b[1;32m      4\u001b[0m     out_channels\u001b[39m=\u001b[39;49m\u001b[39m1\u001b[39;49m,\n\u001b[1;32m      5\u001b[0m     channels\u001b[39m=\u001b[39;49m(\u001b[39m32\u001b[39;49m, \u001b[39m64\u001b[39;49m, \u001b[39m128\u001b[39;49m, \u001b[39m256\u001b[39;49m),\n\u001b[1;32m      6\u001b[0m     strides\u001b[39m=\u001b[39;49m(\u001b[39m2\u001b[39;49m, \u001b[39m2\u001b[39;49m, \u001b[39m2\u001b[39;49m),\n\u001b[1;32m      7\u001b[0m     num_res_units\u001b[39m=\u001b[39;49m\u001b[39m6\u001b[39;49m,\n\u001b[1;32m      8\u001b[0m )\n",
      "File \u001b[0;32m~/opt/anaconda3/envs/mimrtl/lib/python3.8/site-packages/monai/utils/deprecate_utils.py:221\u001b[0m, in \u001b[0;36mdeprecated_arg.<locals>._decorator.<locals>._wrapper\u001b[0;34m(*args, **kwargs)\u001b[0m\n\u001b[1;32m    218\u001b[0m     \u001b[39mif\u001b[39;00m is_deprecated:\n\u001b[1;32m    219\u001b[0m         warn_deprecated(argname, msg, warning_category)\n\u001b[0;32m--> 221\u001b[0m \u001b[39mreturn\u001b[39;00m func(\u001b[39m*\u001b[39;49margs, \u001b[39m*\u001b[39;49m\u001b[39m*\u001b[39;49mkwargs)\n",
      "File \u001b[0;32m~/Downloads/CTAC_github/Amoonguss/model/UNet_GROWTH.py:190\u001b[0m, in \u001b[0;36mUNet_GROWTH.__init__\u001b[0;34m(self, spatial_dims, in_channels, out_channels, channels, strides, kernel_size, up_kernel_size, num_res_units, act, norm, dropout, bias, adn_ordering, dimensions, n_group)\u001b[0m\n\u001b[1;32m    166\u001b[0m \u001b[39mself\u001b[39m\u001b[39m.\u001b[39mn_group \u001b[39m=\u001b[39m n_group\n\u001b[1;32m    168\u001b[0m \u001b[39m# UNet( \u001b[39;00m\n\u001b[1;32m    169\u001b[0m \u001b[39m# spatial_dims=unet_dict[\"spatial_dims\"],\u001b[39;00m\n\u001b[1;32m    170\u001b[0m \u001b[39m# in_channels=unet_dict[\"in_channels\"],\u001b[39;00m\n\u001b[0;32m   (...)\u001b[0m\n\u001b[1;32m    187\u001b[0m \u001b[39m#         down4 -- bottom --  up4\u001b[39;00m\n\u001b[1;32m    188\u001b[0m \u001b[39m# 1 -> (32, 64, 128, 256) -> 1\u001b[39;00m\n\u001b[0;32m--> 190\u001b[0m \u001b[39mself\u001b[39m\u001b[39m.\u001b[39mdown1 \u001b[39m=\u001b[39m ResidualUnit(\u001b[39m3\u001b[39;49m, \u001b[39mself\u001b[39;49m\u001b[39m.\u001b[39;49min_channels, \u001b[39mself\u001b[39;49m\u001b[39m.\u001b[39;49mchannels[\u001b[39m0\u001b[39;49m], \u001b[39mself\u001b[39;49m\u001b[39m.\u001b[39;49mstrides[\u001b[39m0\u001b[39;49m],\n\u001b[1;32m    191\u001b[0m         kernel_size\u001b[39m=\u001b[39;49m\u001b[39mself\u001b[39;49m\u001b[39m.\u001b[39;49mkernel_size, subunits\u001b[39m=\u001b[39;49m\u001b[39mself\u001b[39;49m\u001b[39m.\u001b[39;49mnum_res_units,\n\u001b[1;32m    192\u001b[0m         act\u001b[39m=\u001b[39;49m\u001b[39mself\u001b[39;49m\u001b[39m.\u001b[39;49mact, norm\u001b[39m=\u001b[39;49m\u001b[39mself\u001b[39;49m\u001b[39m.\u001b[39;49mnorm, dropout\u001b[39m=\u001b[39;49m\u001b[39mself\u001b[39;49m\u001b[39m.\u001b[39;49mdropout,\n\u001b[1;32m    193\u001b[0m         bias\u001b[39m=\u001b[39;49m\u001b[39mself\u001b[39;49m\u001b[39m.\u001b[39;49mbias, adn_ordering\u001b[39m=\u001b[39;49m\u001b[39mself\u001b[39;49m\u001b[39m.\u001b[39;49madn_ordering, groups\u001b[39m=\u001b[39;49m\u001b[39mself\u001b[39;49m\u001b[39m.\u001b[39;49mn_group)\n\u001b[1;32m    194\u001b[0m \u001b[39mself\u001b[39m\u001b[39m.\u001b[39mdown2 \u001b[39m=\u001b[39m ResidualUnit(\u001b[39m3\u001b[39m, \u001b[39mself\u001b[39m\u001b[39m.\u001b[39mchannels[\u001b[39m0\u001b[39m], \u001b[39mself\u001b[39m\u001b[39m.\u001b[39mchannels[\u001b[39m1\u001b[39m], \u001b[39mself\u001b[39m\u001b[39m.\u001b[39mstrides[\u001b[39m1\u001b[39m],\n\u001b[1;32m    195\u001b[0m         kernel_size\u001b[39m=\u001b[39m\u001b[39mself\u001b[39m\u001b[39m.\u001b[39mkernel_size, subunits\u001b[39m=\u001b[39m\u001b[39mself\u001b[39m\u001b[39m.\u001b[39mnum_res_units,\n\u001b[1;32m    196\u001b[0m         act\u001b[39m=\u001b[39m\u001b[39mself\u001b[39m\u001b[39m.\u001b[39mact, norm\u001b[39m=\u001b[39m\u001b[39mself\u001b[39m\u001b[39m.\u001b[39mnorm, dropout\u001b[39m=\u001b[39m\u001b[39mself\u001b[39m\u001b[39m.\u001b[39mdropout,\n\u001b[1;32m    197\u001b[0m         bias\u001b[39m=\u001b[39m\u001b[39mself\u001b[39m\u001b[39m.\u001b[39mbias, adn_ordering\u001b[39m=\u001b[39m\u001b[39mself\u001b[39m\u001b[39m.\u001b[39madn_ordering, group\u001b[39m=\u001b[39m\u001b[39mself\u001b[39m\u001b[39m.\u001b[39mn_group)\n\u001b[1;32m    198\u001b[0m \u001b[39mself\u001b[39m\u001b[39m.\u001b[39mdown3 \u001b[39m=\u001b[39m ResidualUnit(\u001b[39m3\u001b[39m, \u001b[39mself\u001b[39m\u001b[39m.\u001b[39mchannels[\u001b[39m1\u001b[39m], \u001b[39mself\u001b[39m\u001b[39m.\u001b[39mchannels[\u001b[39m2\u001b[39m], \u001b[39mself\u001b[39m\u001b[39m.\u001b[39mstrides[\u001b[39m2\u001b[39m],\n\u001b[1;32m    199\u001b[0m         kernel_size\u001b[39m=\u001b[39m\u001b[39mself\u001b[39m\u001b[39m.\u001b[39mkernel_size, subunits\u001b[39m=\u001b[39m\u001b[39mself\u001b[39m\u001b[39m.\u001b[39mnum_res_units,\n\u001b[1;32m    200\u001b[0m         act\u001b[39m=\u001b[39m\u001b[39mself\u001b[39m\u001b[39m.\u001b[39mact, norm\u001b[39m=\u001b[39m\u001b[39mself\u001b[39m\u001b[39m.\u001b[39mnorm, dropout\u001b[39m=\u001b[39m\u001b[39mself\u001b[39m\u001b[39m.\u001b[39mdropout,\n\u001b[1;32m    201\u001b[0m         bias\u001b[39m=\u001b[39m\u001b[39mself\u001b[39m\u001b[39m.\u001b[39mbias, adn_ordering\u001b[39m=\u001b[39m\u001b[39mself\u001b[39m\u001b[39m.\u001b[39madn_ordering, group\u001b[39m=\u001b[39m\u001b[39mself\u001b[39m\u001b[39m.\u001b[39mn_group)\n",
      "\u001b[0;31mTypeError\u001b[0m: __init__() got an unexpected keyword argument 'groups'"
     ]
    }
   ],
   "source": [
    "model = UNet_GROWTH(\n",
    "    spatial_dims=3,\n",
    "    in_channels=1,\n",
    "    out_channels=1,\n",
    "    channels=(32, 64, 128, 256),\n",
    "    strides=(2, 2, 2),\n",
    "    num_res_units=6,\n",
    ")"
   ]
  },
  {
   "cell_type": "code",
   "execution_count": 5,
   "metadata": {},
   "outputs": [
    {
     "name": "stdout",
     "output_type": "stream",
     "text": [
      "0 down1.conv.unit0.conv.weight torch.Size([32, 1, 3, 3, 3])\n",
      "1 down1.conv.unit0.conv.bias torch.Size([32])\n",
      "2 down1.conv.unit0.adn.A.weight torch.Size([1])\n",
      "3 down1.conv.unit1.conv.weight torch.Size([32, 32, 3, 3, 3])\n",
      "4 down1.conv.unit1.conv.bias torch.Size([32])\n",
      "5 down1.conv.unit1.adn.A.weight torch.Size([1])\n",
      "6 down1.conv.unit2.conv.weight torch.Size([32, 32, 3, 3, 3])\n",
      "7 down1.conv.unit2.conv.bias torch.Size([32])\n",
      "8 down1.conv.unit2.adn.A.weight torch.Size([1])\n",
      "9 down1.conv.unit3.conv.weight torch.Size([32, 32, 3, 3, 3])\n",
      "10 down1.conv.unit3.conv.bias torch.Size([32])\n",
      "11 down1.conv.unit3.adn.A.weight torch.Size([1])\n",
      "12 down1.conv.unit4.conv.weight torch.Size([32, 32, 3, 3, 3])\n",
      "13 down1.conv.unit4.conv.bias torch.Size([32])\n",
      "14 down1.conv.unit4.adn.A.weight torch.Size([1])\n",
      "15 down1.conv.unit5.conv.weight torch.Size([32, 32, 3, 3, 3])\n",
      "16 down1.conv.unit5.conv.bias torch.Size([32])\n",
      "17 down1.conv.unit5.adn.A.weight torch.Size([1])\n",
      "18 down1.residual.weight torch.Size([32, 1, 3, 3, 3])\n",
      "19 down1.residual.bias torch.Size([32])\n",
      "20 down2.conv.unit0.conv.weight torch.Size([64, 32, 3, 3, 3])\n",
      "21 down2.conv.unit0.conv.bias torch.Size([64])\n",
      "22 down2.conv.unit0.adn.A.weight torch.Size([1])\n",
      "23 down2.conv.unit1.conv.weight torch.Size([64, 64, 3, 3, 3])\n",
      "24 down2.conv.unit1.conv.bias torch.Size([64])\n",
      "25 down2.conv.unit1.adn.A.weight torch.Size([1])\n",
      "26 down2.conv.unit2.conv.weight torch.Size([64, 64, 3, 3, 3])\n",
      "27 down2.conv.unit2.conv.bias torch.Size([64])\n",
      "28 down2.conv.unit2.adn.A.weight torch.Size([1])\n",
      "29 down2.conv.unit3.conv.weight torch.Size([64, 64, 3, 3, 3])\n",
      "30 down2.conv.unit3.conv.bias torch.Size([64])\n",
      "31 down2.conv.unit3.adn.A.weight torch.Size([1])\n",
      "32 down2.conv.unit4.conv.weight torch.Size([64, 64, 3, 3, 3])\n",
      "33 down2.conv.unit4.conv.bias torch.Size([64])\n",
      "34 down2.conv.unit4.adn.A.weight torch.Size([1])\n",
      "35 down2.conv.unit5.conv.weight torch.Size([64, 64, 3, 3, 3])\n",
      "36 down2.conv.unit5.conv.bias torch.Size([64])\n",
      "37 down2.conv.unit5.adn.A.weight torch.Size([1])\n",
      "38 down2.residual.weight torch.Size([64, 32, 3, 3, 3])\n",
      "39 down2.residual.bias torch.Size([64])\n",
      "40 down3.conv.unit0.conv.weight torch.Size([128, 64, 3, 3, 3])\n",
      "41 down3.conv.unit0.conv.bias torch.Size([128])\n",
      "42 down3.conv.unit0.adn.A.weight torch.Size([1])\n",
      "43 down3.conv.unit1.conv.weight torch.Size([128, 128, 3, 3, 3])\n",
      "44 down3.conv.unit1.conv.bias torch.Size([128])\n",
      "45 down3.conv.unit1.adn.A.weight torch.Size([1])\n",
      "46 down3.conv.unit2.conv.weight torch.Size([128, 128, 3, 3, 3])\n",
      "47 down3.conv.unit2.conv.bias torch.Size([128])\n",
      "48 down3.conv.unit2.adn.A.weight torch.Size([1])\n",
      "49 down3.conv.unit3.conv.weight torch.Size([128, 128, 3, 3, 3])\n",
      "50 down3.conv.unit3.conv.bias torch.Size([128])\n",
      "51 down3.conv.unit3.adn.A.weight torch.Size([1])\n",
      "52 down3.conv.unit4.conv.weight torch.Size([128, 128, 3, 3, 3])\n",
      "53 down3.conv.unit4.conv.bias torch.Size([128])\n",
      "54 down3.conv.unit4.adn.A.weight torch.Size([1])\n",
      "55 down3.conv.unit5.conv.weight torch.Size([128, 128, 3, 3, 3])\n",
      "56 down3.conv.unit5.conv.bias torch.Size([128])\n",
      "57 down3.conv.unit5.adn.A.weight torch.Size([1])\n",
      "58 down3.residual.weight torch.Size([128, 64, 3, 3, 3])\n",
      "59 down3.residual.bias torch.Size([128])\n",
      "60 bottom.conv.unit0.conv.weight torch.Size([256, 128, 3, 3, 3])\n",
      "61 bottom.conv.unit0.conv.bias torch.Size([256])\n",
      "62 bottom.conv.unit0.adn.A.weight torch.Size([1])\n",
      "63 bottom.conv.unit1.conv.weight torch.Size([256, 256, 3, 3, 3])\n",
      "64 bottom.conv.unit1.conv.bias torch.Size([256])\n",
      "65 bottom.conv.unit1.adn.A.weight torch.Size([1])\n",
      "66 bottom.conv.unit2.conv.weight torch.Size([256, 256, 3, 3, 3])\n",
      "67 bottom.conv.unit2.conv.bias torch.Size([256])\n",
      "68 bottom.conv.unit2.adn.A.weight torch.Size([1])\n",
      "69 bottom.conv.unit3.conv.weight torch.Size([256, 256, 3, 3, 3])\n",
      "70 bottom.conv.unit3.conv.bias torch.Size([256])\n",
      "71 bottom.conv.unit3.adn.A.weight torch.Size([1])\n",
      "72 bottom.conv.unit4.conv.weight torch.Size([256, 256, 3, 3, 3])\n",
      "73 bottom.conv.unit4.conv.bias torch.Size([256])\n",
      "74 bottom.conv.unit4.adn.A.weight torch.Size([1])\n",
      "75 bottom.conv.unit5.conv.weight torch.Size([256, 256, 3, 3, 3])\n",
      "76 bottom.conv.unit5.conv.bias torch.Size([256])\n",
      "77 bottom.conv.unit5.adn.A.weight torch.Size([1])\n",
      "78 bottom.residual.weight torch.Size([256, 128, 1, 1, 1])\n",
      "79 bottom.residual.bias torch.Size([256])\n",
      "80 up3.0.conv.weight torch.Size([384, 64, 3, 3, 3])\n",
      "81 up3.0.conv.bias torch.Size([64])\n",
      "82 up3.0.adn.A.weight torch.Size([1])\n",
      "83 up3.1.conv.unit0.conv.weight torch.Size([64, 64, 3, 3, 3])\n",
      "84 up3.1.conv.unit0.conv.bias torch.Size([64])\n",
      "85 up3.1.conv.unit0.adn.A.weight torch.Size([1])\n",
      "86 up2.0.conv.weight torch.Size([128, 32, 3, 3, 3])\n",
      "87 up2.0.conv.bias torch.Size([32])\n",
      "88 up2.0.adn.A.weight torch.Size([1])\n",
      "89 up2.1.conv.unit0.conv.weight torch.Size([32, 32, 3, 3, 3])\n",
      "90 up2.1.conv.unit0.conv.bias torch.Size([32])\n",
      "91 up2.1.conv.unit0.adn.A.weight torch.Size([1])\n",
      "92 up1.0.conv.weight torch.Size([64, 1, 3, 3, 3])\n",
      "93 up1.0.conv.bias torch.Size([1])\n",
      "94 up1.0.adn.A.weight torch.Size([1])\n",
      "95 up1.1.conv.unit0.conv.weight torch.Size([1, 1, 3, 3, 3])\n",
      "96 up1.1.conv.unit0.conv.bias torch.Size([1])\n"
     ]
    }
   ],
   "source": [
    "index_conv_weights = []\n",
    "index_conv_bias = []\n",
    "\n",
    "model_sd = model.state_dict()\n",
    "for idx, (k, v) in enumerate(model_sd.items()):\n",
    "    print(idx, k, v.shape)\n",
    "    if \"conv.weight\" in k:\n",
    "        index_conv_weights.append(idx)\n",
    "    elif \"conv.bias\" in k:\n",
    "        index_conv_bias.append(idx)\n",
    "    "
   ]
  },
  {
   "cell_type": "markdown",
   "metadata": {},
   "source": []
  }
 ],
 "metadata": {
  "kernelspec": {
   "display_name": "mimrtl",
   "language": "python",
   "name": "python3"
  },
  "language_info": {
   "codemirror_mode": {
    "name": "ipython",
    "version": 3
   },
   "file_extension": ".py",
   "mimetype": "text/x-python",
   "name": "python",
   "nbconvert_exporter": "python",
   "pygments_lexer": "ipython3",
   "version": "3.8.11"
  },
  "orig_nbformat": 4
 },
 "nbformat": 4,
 "nbformat_minor": 2
}
